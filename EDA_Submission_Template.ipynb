{
  "nbformat": 4,
  "nbformat_minor": 0,
  "metadata": {
    "colab": {
      "private_outputs": true,
      "provenance": [],
      "collapsed_sections": [
        "vncDsAP0Gaoa",
        "FJNUwmbgGyua",
        "w6K7xa23Elo4",
        "yQaldy8SH6Dl",
        "PH-0ReGfmX4f",
        "mDgbUHAGgjLW",
        "O_i_v8NEhb9l",
        "HhfV-JJviCcP",
        "Y3lxredqlCYt",
        "3RnN4peoiCZX",
        "x71ZqKXriCWQ",
        "7hBIi_osiCS2",
        "JlHwYmJAmNHm",
        "35m5QtbWiB9F",
        "PoPl-ycgm1ru",
        "H0kj-8xxnORC",
        "nA9Y7ga8ng1Z",
        "PBTbrJXOngz2",
        "u3PMJOP6ngxN",
        "dauF4eBmngu3",
        "bKJF3rekwFvQ",
        "MSa1f5Uengrz",
        "GF8Ens_Soomf",
        "0wOQAZs5pc--",
        "K5QZ13OEpz2H",
        "lQ7QKXXCp7Bj",
        "448CDAPjqfQr",
        "KSlN3yHqYklG",
        "t6dVpIINYklI",
        "ijmpgYnKYklI",
        "-JiQyfWJYklI",
        "EM7whBJCYoAo",
        "fge-S5ZAYoAp",
        "85gYPyotYoAp",
        "RoGjAbkUYoAp",
        "4Of9eVA-YrdM",
        "iky9q4vBYrdO",
        "F6T5p64dYrdO",
        "y-Ehk30pYrdP",
        "bamQiAODYuh1",
        "QHF8YVU7Yuh3",
        "GwzvFGzlYuh3",
        "qYpmQ266Yuh3",
        "OH-pJp9IphqM",
        "bbFf2-_FphqN",
        "_ouA3fa0phqN",
        "Seke61FWphqN",
        "PIIx-8_IphqN",
        "t27r6nlMphqO",
        "r2jJGEOYphqO",
        "b0JNsNcRphqO",
        "BZR9WyysphqO",
        "jj7wYXLtphqO",
        "eZrbJ2SmphqO",
        "rFu4xreNphqO",
        "YJ55k-q6phqO",
        "gCFgpxoyphqP",
        "OVtJsKN_phqQ",
        "lssrdh5qphqQ",
        "U2RJ9gkRphqQ",
        "1M8mcRywphqQ",
        "tgIPom80phqQ",
        "JMzcOPDDphqR",
        "x-EpHcCOp1ci",
        "X_VqEhTip1ck",
        "8zGJKyg5p1ck",
        "PVzmfK_Ep1ck",
        "n3dbpmDWp1ck",
        "ylSl6qgtp1ck",
        "ZWILFDl5p1ck",
        "M7G43BXep1ck",
        "Ag9LCva-p1cl",
        "E6MkPsBcp1cl",
        "2cELzS2fp1cl",
        "3MPXvC8up1cl",
        "NC_X3p0fY2L0",
        "UV0SzAkaZNRQ",
        "YPEH6qLeZNRQ",
        "q29F0dvdveiT",
        "EXh0U9oCveiU",
        "22aHeOlLveiV",
        "JcMwzZxoAimU",
        "8G2x9gOozGDZ",
        "gCX9965dhzqZ",
        "gIfDvo9L0UH2"
      ],
      "include_colab_link": true
    },
    "kernelspec": {
      "name": "python3",
      "display_name": "Python 3"
    },
    "language_info": {
      "name": "python"
    }
  },
  "cells": [
    {
      "cell_type": "markdown",
      "metadata": {
        "id": "view-in-github",
        "colab_type": "text"
      },
      "source": [
        "<a href=\"https://colab.research.google.com/github/ShubhamYadav369/Hotel_Booking_Analysis/blob/main/EDA_Submission_Template.ipynb\" target=\"_parent\"><img src=\"https://colab.research.google.com/assets/colab-badge.svg\" alt=\"Open In Colab\"/></a>"
      ]
    },
    {
      "cell_type": "markdown",
      "source": [
        "# **Project Name**    - Hotel Booking Analysis\n"
      ],
      "metadata": {
        "id": "vncDsAP0Gaoa"
      }
    },
    {
      "cell_type": "markdown",
      "source": [
        "**Project Type** - EDA Poject\n",
        "\n",
        "**Contribution** - Individual\n",
        "\n",
        "**Name** - Shubham Yadav"
      ],
      "metadata": {
        "id": "beRrZCGUAJYm"
      }
    },
    {
      "cell_type": "markdown",
      "source": [
        "# **Project Summary -**"
      ],
      "metadata": {
        "id": "FJNUwmbgGyua"
      }
    },
    {
      "cell_type": "markdown",
      "source": [
        "\n",
        "**1.** In this project, we began by exploring a dataset that contains information about hotel bookings. The dataset includes two types of hotels: City Hotel and Resort Hotel.\n",
        "\n",
        "**2.** The dataset consists of 119,390 rows and 32 columns.\n",
        "\n",
        "**3.** All the columns in the dataset are divided into three data types: Object, Float, and Int.\n",
        "\n",
        "**4.** The dataset contains duplicate values as well as null values. There are a total of 31,994 duplicate values, and four columns have missing values.\n",
        "\n",
        "**5.** The column with the maximum number of missing values is \"Company,\" followed by \"Agent,\" \"Country,\" and \"Children.\" The \"Children\" column has only four null values, while the \"Company\" column has 112,593 null values. The dataset has 119,390 rows and 32 columns in total.\n",
        "\n",
        "**6.** For the data manipulation workflow in this project, we divided it into three categories: Data collection, Data cleaning and manipulation, and Exploratory Data Analysis (EDA).\n",
        "\n",
        "**7.** To collect the data, we used various basic functions and attributes such as Head(), Tail(), Info(), Describe(), and Columns() to understand the dataset better.\n",
        "\n",
        "**8.** Since the dataset contains both duplicate and missing values, we had to handle them accordingly. We replaced the null and missing values and dropped the duplicate values.\n",
        "\n",
        "**9.** We also converted the data types of columns to their appropriate types and added some new columns. Additionally, we dropped rows where the combined values of adults, babies, and children were 0, indicating no guests and no bookings made.\n",
        "\n",
        "**10.** We have found that there were some rows in which the combining values of adults,babies and childrens was 0 so this simply means there were no guests as 0 indicates presence of none.So there were no bookings made.So as as result ,We simply dropped in the rows where combining values of adults,babies and children columns was 0\n",
        "\n",
        "\n",
        "**11.** The data type of the \"reservation_status_date\" column was initially object type, so we converted it to date type for better utilization. We also added two new columns: \"total_people\" and \"total_stay.\"\n",
        "\n",
        "\n",
        "**12.** Before proceeding with data visualization, we conducted data wrangling, which involved checking for null values in all the columns. Once the data wrangling process was completed, we moved on to the data visualization part.\n",
        "\n",
        "**13.** In the data visualization phase, we followed a structured approach, adhering to the \"UBM\" rule:\n",
        "\n",
        "U - Univariate Analysis: We performed visualizations to analyze individual variables and understand their distributions, such as histograms, bar charts, or count plots.\n",
        "\n",
        "B - Bivariate Analysis (Numerical-Categorical): We explored the relationship between numerical and categorical variables using appropriate visualizations like box plots, violin plots, or grouped bar charts. This allowed us to identify any patterns or dependencies between different variables.\n",
        "\n",
        "M - Multivariate Analysis: We delved into visualizations involving multiple variables to uncover complex relationships and dependencies. Heatmaps, scatter plots, or parallel coordinate plots were used to gain insights from multiple dimensions simultaneously.\n",
        "\n",
        "**.** Throughout the data visualization process, we utilized various charts and graphs, carefully examining them to extract meaningful insights that would contribute to business outcomes.\n",
        "\n",
        "**.** Additionally, we employed correlation matrices to understand the relationships between different columns. This played a crucial role in comprehending the overall interplay within the dataset.\n",
        "\n",
        "**.** By conducting exploratory data analysis and data visualization, we were able to discover and highlight important factors that govern hotel bookings, leading to a deeper understanding of the dataset."
      ],
      "metadata": {
        "id": "F6v_1wHtG2nS"
      }
    },
    {
      "cell_type": "markdown",
      "source": [
        "# **GitHub Link -**"
      ],
      "metadata": {
        "id": "w6K7xa23Elo4"
      }
    },
    {
      "cell_type": "markdown",
      "source": [
        "https://github.com/ShubhamYadav369"
      ],
      "metadata": {
        "id": "h1o69JH3Eqqn"
      }
    },
    {
      "cell_type": "markdown",
      "source": [
        "# **Problem Statement**\n"
      ],
      "metadata": {
        "id": "yQaldy8SH6Dl"
      }
    },
    {
      "cell_type": "markdown",
      "source": [
        "**Have you ever wondered when the best time of year to book a hotel room is ? or the optimal length of stay in order to get the best daily rate?what if you wanted to predict whether or not a hotel was likely to receive a disproportionately high number of special request?This hotel booking dataset can help you explore those questions!This data is contains booking information of city hotel and resort hotel,and includes information such as when the booking was made,length of stay the number of adult,children ,babies etc..**"
      ],
      "metadata": {
        "id": "DpeJGUA3kjGy"
      }
    },
    {
      "cell_type": "markdown",
      "source": [
        "#### **Define Your Business Objective?**"
      ],
      "metadata": {
        "id": "PH-0ReGfmX4f"
      }
    },
    {
      "cell_type": "markdown",
      "source": [
        "Discovering the important factors that govern bookings and exploring and analyzing the data for business output."
      ],
      "metadata": {
        "id": "PhDvGCAqmjP1"
      }
    },
    {
      "cell_type": "markdown",
      "source": [
        "# **General Guidelines** : -"
      ],
      "metadata": {
        "id": "mDgbUHAGgjLW"
      }
    },
    {
      "cell_type": "markdown",
      "source": [
        "1.   Well-structured, formatted, and commented code is required.\n",
        "2.   Exception Handling, Production Grade Code & Deployment Ready Code will be a plus. Those students will be awarded some additional credits.\n",
        "\n",
        "     The additional credits will have advantages over other students during Star Student selection.\n",
        "\n",
        "             [ Note: - Deployment Ready Code is defined as, the whole .ipynb notebook should be executable in one go\n",
        "                       without a single error logged. ]\n",
        "\n",
        "3.   Each and every logic should have proper comments.\n",
        "4. You may add as many number of charts you want. Make Sure for each and every chart the following format should be answered.\n",
        "\n",
        "\n",
        "```\n",
        "# Chart visualization code\n",
        "```\n",
        "\n",
        "\n",
        "*   Why did you pick the specific chart?\n",
        "*   What is/are the insight(s) found from the chart?\n",
        "* Will the gained insights help creating a positive business impact?\n",
        "Are there any insights that lead to negative growth? Justify with specific reason.\n",
        "\n",
        "5. You have to create at least 20 logical & meaningful charts having important insights.\n",
        "\n",
        "\n",
        "[ Hints : - Do the Vizualization in  a structured way while following \"UBM\" Rule.\n",
        "\n",
        "U - Univariate Analysis,\n",
        "\n",
        "B - Bivariate Analysis (Numerical - Categorical, Numerical - Numerical, Categorical - Categorical)\n",
        "\n",
        "M - Multivariate Analysis\n",
        " ]\n",
        "\n",
        "\n",
        "\n"
      ],
      "metadata": {
        "id": "ZrxVaUj-hHfC"
      }
    },
    {
      "cell_type": "markdown",
      "source": [
        "# ***Let's Begin !***"
      ],
      "metadata": {
        "id": "O_i_v8NEhb9l"
      }
    },
    {
      "cell_type": "markdown",
      "source": [
        "## ***1. Know Your Data***"
      ],
      "metadata": {
        "id": "HhfV-JJviCcP"
      }
    },
    {
      "cell_type": "markdown",
      "source": [
        "### Import Libraries"
      ],
      "metadata": {
        "id": "Y3lxredqlCYt"
      }
    },
    {
      "cell_type": "code",
      "source": [
        "# Import Libraries\n",
        "import pandas as pd\n",
        "import numpy as np\n",
        "%matplotlib inline\n",
        "from datetime import datetime\n",
        "import matplotlib.pyplot as plt\n",
        "import seaborn as sns"
      ],
      "metadata": {
        "id": "M8Vqi-pPk-HR"
      },
      "execution_count": null,
      "outputs": []
    },
    {
      "cell_type": "code",
      "source": [
        "from google.colab import drive\n",
        "drive.mount('/content/drive')"
      ],
      "metadata": {
        "id": "bmUvNxqCfPtv"
      },
      "execution_count": null,
      "outputs": []
    },
    {
      "cell_type": "markdown",
      "source": [
        "### Dataset Loading"
      ],
      "metadata": {
        "id": "3RnN4peoiCZX"
      }
    },
    {
      "cell_type": "code",
      "source": [
        "# Load Dataset\n",
        "Hotel_booking_df=pd.read_csv('/content/Hotel Bookings.csv')"
      ],
      "metadata": {
        "id": "4CkvbW_SlZ_R"
      },
      "execution_count": null,
      "outputs": []
    },
    {
      "cell_type": "markdown",
      "source": [
        "### Dataset First View"
      ],
      "metadata": {
        "id": "x71ZqKXriCWQ"
      }
    },
    {
      "cell_type": "code",
      "source": [
        "# Dataset First Look\n",
        "Hotel_booking_df"
      ],
      "metadata": {
        "id": "LWNFOSvLl09H"
      },
      "execution_count": null,
      "outputs": []
    },
    {
      "cell_type": "code",
      "source": [
        "#Head of the dataset\n",
        "Hotel_booking_df.head()"
      ],
      "metadata": {
        "id": "eirxv11rgvLh"
      },
      "execution_count": null,
      "outputs": []
    },
    {
      "cell_type": "code",
      "source": [
        "# Tail of the dataset\n",
        "Hotel_booking_df.tail()"
      ],
      "metadata": {
        "id": "KkSiLr7zhHrV"
      },
      "execution_count": null,
      "outputs": []
    },
    {
      "cell_type": "markdown",
      "source": [
        "### Dataset Rows & Columns count"
      ],
      "metadata": {
        "id": "7hBIi_osiCS2"
      }
    },
    {
      "cell_type": "code",
      "source": [
        "# Dataset Rows & Columns count\n",
        "Hotel_booking_df.shape\n",
        "print('Number of Rows',Hotel_booking_df.shape[0])\n",
        "print('Number of Columns',Hotel_booking_df.shape[1])"
      ],
      "metadata": {
        "id": "Kllu7SJgmLij"
      },
      "execution_count": null,
      "outputs": []
    },
    {
      "cell_type": "markdown",
      "source": [
        "### Dataset Information"
      ],
      "metadata": {
        "id": "JlHwYmJAmNHm"
      }
    },
    {
      "cell_type": "code",
      "source": [
        "# Dataset Info\n",
        "Hotel_booking_df.info()"
      ],
      "metadata": {
        "id": "e9hRXRi6meOf"
      },
      "execution_count": null,
      "outputs": []
    },
    {
      "cell_type": "markdown",
      "source": [
        "#### Duplicate Values"
      ],
      "metadata": {
        "id": "35m5QtbWiB9F"
      }
    },
    {
      "cell_type": "code",
      "source": [
        "# Dataset Duplicate Value Count\n",
        "Hotel_booking_df.duplicated().value_counts()"
      ],
      "metadata": {
        "id": "1sLdpKYkmox0"
      },
      "execution_count": null,
      "outputs": []
    },
    {
      "cell_type": "markdown",
      "source": [
        "#### Missing Values/Null Values"
      ],
      "metadata": {
        "id": "PoPl-ycgm1ru"
      }
    },
    {
      "cell_type": "code",
      "source": [
        "# Missing Values/Null Values Count\n",
        "print(Hotel_booking_df.isnull().sum().sort_values(ascending=False))"
      ],
      "metadata": {
        "id": "GgHWkxvamxVg"
      },
      "execution_count": null,
      "outputs": []
    },
    {
      "cell_type": "code",
      "source": [
        "# Visualizing the missing values\n",
        "plt.figure(figsize=(12,8))\n",
        "sns.heatmap(Hotel_booking_df.isnull(),cbar=False,cmap='viridis')\n",
        "plt.xlabel('Name of Columns',fontsize=15)\n",
        "plt.title('Place of missing values in columns',fontsize=15)"
      ],
      "metadata": {
        "id": "3q5wnI3om9sJ"
      },
      "execution_count": null,
      "outputs": []
    },
    {
      "cell_type": "markdown",
      "source": [
        "### What did you know about your dataset?"
      ],
      "metadata": {
        "id": "H0kj-8xxnORC"
      }
    },
    {
      "cell_type": "markdown",
      "source": [
        "**.** The data contains 119390 rows and 32 columns.\n",
        "\n",
        "**.** All the columns are divided into three types.Objects,Float64,Int64\n",
        "\n",
        "**.** This datasheet does have duplicate as well as null values.There are total of 31994 and four columns have missing values.\n",
        "\n",
        "**.** Tha maximum number of missing values are from **Company** column then follow by **Agent**, **Children** and **Country** columns. The **Children** columns consist of only 4 null values while **Company** column of  112593 null values."
      ],
      "metadata": {
        "id": "oEJFY52mmFuv"
      }
    },
    {
      "cell_type": "markdown",
      "source": [
        "## ***2. Understanding Your Variables***\n",
        "\n",
        "> Indented block\n",
        "\n"
      ],
      "metadata": {
        "id": "nA9Y7ga8ng1Z"
      }
    },
    {
      "cell_type": "code",
      "source": [
        "# Dataset Columns\n",
        "print(Hotel_booking_df.columns)"
      ],
      "metadata": {
        "id": "j7xfkqrt5Ag5"
      },
      "execution_count": null,
      "outputs": []
    },
    {
      "cell_type": "code",
      "source": [
        "# Dataset Describe\n",
        "Hotel_booking_df.describe()"
      ],
      "metadata": {
        "id": "DnOaZdaE5Q5t"
      },
      "execution_count": null,
      "outputs": []
    },
    {
      "cell_type": "markdown",
      "source": [
        "### Variables Description"
      ],
      "metadata": {
        "id": "PBTbrJXOngz2"
      }
    },
    {
      "cell_type": "markdown",
      "source": [
        "1*.* hotel: Name of the hotel(Resort and city Hotel)\n",
        "2*.* is_cancelled: If the booking was cancelled (1) or not cancelled (0)\n",
        "3*.* lead_time: Number of days that elapsed between the entireing date of the booking into the PMS and the arrival date.\n",
        "4*.* arrival_date_year: Year of the arrival date\n",
        "5*.* arrival_date_month: Month of month arrival date\n",
        "6*.* arrival_date_week_number: Week number of arrival date\n",
        "7*.* arrival_data_day_of_month: Date of arrivel date\n",
        "8*.* stays_in_weekend_nights: Number of weekend nights(Saturday and Sunday) the guest stayed or booked to stay at the Hotel\n",
        "9*.* stay_in_weeknights: Number of weeknights (Mon to Fri)the guest stayed or booked to stay at the hotel\n",
        "10*.* adults: Number of adults among guests\n",
        "11*.* children: Number of children among guest\n",
        "12*.* babies: Number of babies among guest\n",
        "13*.* meal: King of meal opted for\n",
        "14*.* country: Country code\n",
        "15*.* market_segment: Which segment customer belongs to\n",
        "16*.* distribution_channel: Name of the booking distribution channel The term 'TA' means 'Travel agents' and 'TO' means 'Tour Operators\n",
        "17*.* is_repeated_guest: The booking was done by a repeated guest (1) or not (0)\n",
        "18*.* previous_cancellation: Number of previous booking that were cancelled by the customer prior to the current booking\n",
        "19*.* previous_booking_not_cancelled: Number of previous booking not cancelled by the customer prior to the current booking\n",
        "20*.* reserved_room_type: Code of room type reserved\n",
        "21*.* assigned_room_type: Code of room type assigned\n",
        "22*.* booking_charges: Number of the charges/ amendment made to the booking\n",
        "23*.* deposit_type: Type of the made by the guest\n",
        "24*.* agent:id of the company that made the booking\n",
        "25*.* company:ID of the company that made that booking\n",
        "26*.* days_in_waiting_list: Number of days the booking was in the waiting list\n",
        "27*.* customer_type: Type of customers, assuming one of the four categories\n",
        "28*.* adr: Average daily rate\n",
        "29*.* required_car_parking_space: Number of car parking space required by the customer.\n",
        "30*.* total_of_special_request: Number of special request made by the customer\n",
        "31*.* reservation_status: Reservation status\n",
        "32*.* reservation_status_date: Date at which the last reservation status was updated"
      ],
      "metadata": {
        "id": "aJV4KIxSnxay"
      }
    },
    {
      "cell_type": "markdown",
      "source": [
        "### Check Unique Values for each variable."
      ],
      "metadata": {
        "id": "u3PMJOP6ngxN"
      }
    },
    {
      "cell_type": "code",
      "source": [
        "# Check Unique Values for each variable.\n",
        "for i in Hotel_booking_df.columns.tolist():\n",
        "  print('Number of unique value is',i,'is',Hotel_booking_df[i].nunique())"
      ],
      "metadata": {
        "id": "zms12Yq5n-jE"
      },
      "execution_count": null,
      "outputs": []
    },
    {
      "cell_type": "code",
      "source": [
        "#checking the unique value one by one\n",
        "#checking the unique value of Hotel\n",
        "Hotel_booking_df['hotel'].unique()"
      ],
      "metadata": {
        "id": "jJOdXgcE-A2p"
      },
      "execution_count": null,
      "outputs": []
    },
    {
      "cell_type": "code",
      "source": [
        "#Checking the unique values of 'arrival_data_year'\n",
        "Hotel_booking_df['arrival_date_year'].unique()"
      ],
      "metadata": {
        "id": "caz4i-Th-7B1"
      },
      "execution_count": null,
      "outputs": []
    },
    {
      "cell_type": "code",
      "source": [
        "#checking the unique values of 'is_canceled'\n",
        "Hotel_booking_df['is_canceled'].unique()"
      ],
      "metadata": {
        "id": "CSi6nmO0Bx5y"
      },
      "execution_count": null,
      "outputs": []
    },
    {
      "cell_type": "code",
      "source": [
        "#check the unique values of 'meal'\n",
        "Hotel_booking_df['meal'].unique()"
      ],
      "metadata": {
        "id": "S5_7F5OGC7e4"
      },
      "execution_count": null,
      "outputs": []
    },
    {
      "cell_type": "code",
      "source": [
        "#checking the unique values of 'distribution_channel'\n",
        "Hotel_booking_df['distribution_channel'].unique()"
      ],
      "metadata": {
        "id": "tjXwSofUD6yu"
      },
      "execution_count": null,
      "outputs": []
    },
    {
      "cell_type": "code",
      "source": [
        "#checking the unique values of 'market_segment'\n",
        "Hotel_booking_df['market_segment'].unique()"
      ],
      "metadata": {
        "id": "m-vq0EqbEW0H"
      },
      "execution_count": null,
      "outputs": []
    },
    {
      "cell_type": "code",
      "source": [
        "#Checking the unique value of 'children'\n",
        "Hotel_booking_df['children'].unique()"
      ],
      "metadata": {
        "id": "3E881nKpEzQX"
      },
      "execution_count": null,
      "outputs": []
    },
    {
      "cell_type": "markdown",
      "source": [
        "## 3. ***Data Wrangling***"
      ],
      "metadata": {
        "id": "dauF4eBmngu3"
      }
    },
    {
      "cell_type": "markdown",
      "source": [
        "### Data Wrangling Code"
      ],
      "metadata": {
        "id": "bKJF3rekwFvQ"
      }
    },
    {
      "cell_type": "code",
      "source": [
        "# Write your code to make your dataset analysis ready.\n",
        "#missing value in columns\n",
        "Hotel_booking_df.isnull().sum().sort_values(ascending=False)[:5]"
      ],
      "metadata": {
        "id": "wk-9a2fpoLcV"
      },
      "execution_count": null,
      "outputs": []
    },
    {
      "cell_type": "code",
      "source": [
        "#Replacing null values of agent,company and children with value 0 and replacing null values of country column with other\n",
        "Hotel_booking_df[['company','agent','children']]=Hotel_booking_df[['company','agent','children']].fillna(0)\n",
        "Hotel_booking_df[['country']]=Hotel_booking_df[['country']].fillna('other')"
      ],
      "metadata": {
        "id": "o2Ci_aBsnb0s"
      },
      "execution_count": null,
      "outputs": []
    },
    {
      "cell_type": "code",
      "source": [
        "#checking\n",
        "Hotel_booking_df.isnull().sum().sort_values(ascending=False)[:5]"
      ],
      "metadata": {
        "id": "c8oOiBSFpU-f"
      },
      "execution_count": null,
      "outputs": []
    },
    {
      "cell_type": "markdown",
      "source": [
        "No null Values in updated dataframe"
      ],
      "metadata": {
        "id": "tF-r6usdqXmu"
      }
    },
    {
      "cell_type": "code",
      "source": [
        "#checking no of duplicate null values in the dataset\n",
        "len(Hotel_booking_df[Hotel_booking_df.duplicated()])"
      ],
      "metadata": {
        "id": "mH265NNUqd25"
      },
      "execution_count": null,
      "outputs": []
    },
    {
      "cell_type": "code",
      "source": [
        "# Droping the dupicates\n",
        "Hotel_booking_df=Hotel_booking_df.drop_duplicates()\n",
        "Hotel_booking_df"
      ],
      "metadata": {
        "id": "UIXohnawt9vq"
      },
      "execution_count": null,
      "outputs": []
    },
    {
      "cell_type": "code",
      "source": [
        "# Checking the shape of the dataset whose combining values of adults,babies and children columns is 0\n",
        "Hotel_booking_df[Hotel_booking_df['adults']+Hotel_booking_df['babies']+Hotel_booking_df['children']==0].shape"
      ],
      "metadata": {
        "id": "6DPiTPeTuabX"
      },
      "execution_count": null,
      "outputs": []
    },
    {
      "cell_type": "code",
      "source": [
        "#Checking the shape of new updated dataset\n",
        "Hotel_booking_df.shape"
      ],
      "metadata": {
        "id": "22B--MZ2vciC"
      },
      "execution_count": null,
      "outputs": []
    },
    {
      "cell_type": "code",
      "source": [
        "# creating the copy of the dataset further analysis\n",
        "Hotel_booking_df1=Hotel_booking_df.copy()"
      ],
      "metadata": {
        "id": "_1GG9FTRv5FS"
      },
      "execution_count": null,
      "outputs": []
    },
    {
      "cell_type": "code",
      "source": [
        "#Dropping the rows where combining values of adults,babies and children columns is 0 because that mean no booking were made\n",
        "Hotel_booking_df1.drop(Hotel_booking_df1[Hotel_booking_df1['adults']+Hotel_booking_df1['babies']+Hotel_booking_df1['children']==0].index,inplace=True)"
      ],
      "metadata": {
        "id": "ssy5JJk5wfq1"
      },
      "execution_count": null,
      "outputs": []
    },
    {
      "cell_type": "code",
      "source": [
        "# Changing datatype of column 'reservation_status_date' from object to datatype\n",
        "Hotel_booking_df1['reservation_status_date']=pd.to_datetime(Hotel_booking_df1['reservation_status_date'],format='%Y-%m-%d')"
      ],
      "metadata": {
        "id": "KB1RWWoKyerI"
      },
      "execution_count": null,
      "outputs": []
    },
    {
      "cell_type": "markdown",
      "source": [
        "# **Adding Important columns**"
      ],
      "metadata": {
        "id": "Y1qlpEyrzmx3"
      }
    },
    {
      "cell_type": "code",
      "source": [
        "#Adding total staying days in hotel\n",
        "Hotel_booking_df1['total_stays']=Hotel_booking_df1['stays_in_weekend_nights']+Hotel_booking_df1['stays_in_week_nights']\n",
        "#Adding total number of people\n",
        "Hotel_booking_df1['total_people']=Hotel_booking_df1['adults']+Hotel_booking_df1['children']+Hotel_booking_df1['babies']\n"
      ],
      "metadata": {
        "id": "s4oS7F-Wz52p"
      },
      "execution_count": null,
      "outputs": []
    },
    {
      "cell_type": "code",
      "source": [
        "#checking the shape of dataset\n",
        "Hotel_booking_df1.shape\n"
      ],
      "metadata": {
        "id": "f4JlDzJ5OWKX"
      },
      "execution_count": null,
      "outputs": []
    },
    {
      "cell_type": "markdown",
      "source": [
        "### What all manipulations have you done and insights you found?"
      ],
      "metadata": {
        "id": "MSa1f5Uengrz"
      }
    },
    {
      "cell_type": "markdown",
      "source": [
        "**Manipulations and the insights found by us are as follows**\n",
        "\n",
        "We discovered that four columns in the dataset contained null values: Company, Agent, Country, and Children. To handle these missing values, we filled the null values in the Company, Children, and Agent columns with 0. For the Country column, we replaced the missing values with the string 'Others'.\n",
        "\n",
        "As for the Children column, it had only 4 missing values, so we replaced them with 0, assuming no children were present in those cases.\n",
        "\n",
        "Since the dataset contained duplicate values, we removed the duplicates from the dataset.\n",
        "\n",
        "Furthermore, we identified rows in which the combined values of adults, babies, and children were 0, indicating no guests were present. As a result, we dropped those rows as they represented cases where no bookings were made.\n",
        "\n",
        "To enhance usability, we changed the data type of the 'reservation_status_date' column from object to a date format.\n",
        "\n",
        "We also introduced two new columns: 'total_stays' and 'total_people'.\n",
        "\n",
        "These manipulations and insights were crucial in preparing the dataset for further analysis and generating meaningful business outcomes."
      ],
      "metadata": {
        "id": "LbyXE7I1olp8"
      }
    },
    {
      "cell_type": "markdown",
      "source": [
        "## ***4. Data Vizualization, Storytelling & Experimenting with charts : Understand the relationships between variables***"
      ],
      "metadata": {
        "id": "GF8Ens_Soomf"
      }
    },
    {
      "cell_type": "markdown",
      "source": [
        "#### Chart - 1 **Pie Chart for Most Preferred Hotels (Univariate)**"
      ],
      "metadata": {
        "id": "0wOQAZs5pc--"
      }
    },
    {
      "cell_type": "code",
      "source": [
        "# Chart - 1 visualization code\n",
        "Hotel_booking_df1['hotel'].value_counts().plot.pie(explode=[0.05,0.05],autopct='%1.1f%%',shadow=True,figsize=(12,10),fontsize=18)\n",
        "plt.title('pie chart for most preffered hotel',fontsize=15)"
      ],
      "metadata": {
        "id": "7v_ESjsspbW7"
      },
      "execution_count": null,
      "outputs": []
    },
    {
      "cell_type": "markdown",
      "source": [
        "##### 1. Why did you pick the specific chart?"
      ],
      "metadata": {
        "id": "K5QZ13OEpz2H"
      }
    },
    {
      "cell_type": "markdown",
      "source": [
        "\n",
        "To present the data on which hotel has received the highest number of bookings."
      ],
      "metadata": {
        "id": "XESiWehPqBRc"
      }
    },
    {
      "cell_type": "markdown",
      "source": [
        "##### 2. What is/are the insight(s) found from the chart?"
      ],
      "metadata": {
        "id": "lQ7QKXXCp7Bj"
      }
    },
    {
      "cell_type": "markdown",
      "source": [
        "\n",
        "Here, we found that the booking rate is higher in the City Hotel at 61.10% compared to the Resort Hotel at 38.90%. Therefore, we can conclude that the City Hotel has a higher level of demand or consumption."
      ],
      "metadata": {
        "id": "C_j1G7yiqdRP"
      }
    },
    {
      "cell_type": "markdown",
      "source": [
        "##### 3. Will the gained insights help creating a positive business impact?\n",
        "Are there any insights that lead to negative growth? Justify with specific reason."
      ],
      "metadata": {
        "id": "448CDAPjqfQr"
      }
    },
    {
      "cell_type": "markdown",
      "source": [
        "\n",
        "Yes, this data has had a positive business impact on both hotels.\n",
        "\n",
        "City Hotel: The City Hotel has focused on providing additional services and amenities to attract more guests, thereby increasing their revenue.\n",
        "\n",
        "Resort Hotel: The Resort Hotel has implemented strategies aimed at enhancing the guest experience and attracting more bookings, resulting in increased revenue."
      ],
      "metadata": {
        "id": "3cspy4FjqxJW"
      }
    },
    {
      "cell_type": "markdown",
      "source": [
        "#### Chart - 2 **Hotel Type with Highest Average Daily Rate (Bivariate with Categorical-Numerical)**"
      ],
      "metadata": {
        "id": "KSlN3yHqYklG"
      }
    },
    {
      "cell_type": "code",
      "source": [
        "# Chart - 2 visualization code\n",
        "group_by_hotel=Hotel_booking_df1.groupby('hotel')"
      ],
      "metadata": {
        "id": "R4YgtaqtYklH"
      },
      "execution_count": null,
      "outputs": []
    },
    {
      "cell_type": "code",
      "source": [
        "#Group by Hotel adr\n",
        "highest_adr=group_by_hotel['adr'].mean().reset_index()\n",
        "#set_plot_size\n",
        "plt.figure(figsize=(10,8))\n",
        "#set the x,y and title label\n",
        "plt.xlabel('Hotel type',fontsize=15)\n",
        "plt.ylabel('ADR',fontsize=15)\n",
        "plt.title('Avg ADR of each hotel type',fontsize=15)\n",
        "#plot the graph\n",
        "sns.barplot(x=highest_adr['hotel'],y=highest_adr['adr'])"
      ],
      "metadata": {
        "id": "kdiGNqptVg0J"
      },
      "execution_count": null,
      "outputs": []
    },
    {
      "cell_type": "markdown",
      "source": [
        "##### 1. Why did you pick the specific chart?"
      ],
      "metadata": {
        "id": "t6dVpIINYklI"
      }
    },
    {
      "cell_type": "markdown",
      "source": [
        "To clearly and effectively represent the average ADR (Average Daily Rate) of each hotel type, a bar chart would be the most suitable and feasible choice."
      ],
      "metadata": {
        "id": "5aaW0BYyYklI"
      }
    },
    {
      "cell_type": "markdown",
      "source": [
        "##### 2. What is/are the insight(s) found from the chart?"
      ],
      "metadata": {
        "id": "ijmpgYnKYklI"
      }
    },
    {
      "cell_type": "markdown",
      "source": [
        "The City Hotel has the highest ADR, indicating that it generates more revenue compared to the Resort Hotel. As ADR increases, so does the potential for higher revenue."
      ],
      "metadata": {
        "id": "PSx9atu2YklI"
      }
    },
    {
      "cell_type": "markdown",
      "source": [
        "##### 3. Will the gained insights help creating a positive business impact?\n",
        "Are there any insights that lead to negative growth? Justify with specific reason.\n",
        "\n",
        "The City Hotel can enhance its advertising efforts to attract more customers, leading to increased revenue. Although the hotel is already generating significant earnings, implementing proactive measures for growth will undoubtedly contribute substantially to its overall revenue."
      ],
      "metadata": {
        "id": "-JiQyfWJYklI"
      }
    },
    {
      "cell_type": "markdown",
      "source": [
        "#### Chart - 3 **Relationship between ADR and Total Stay**"
      ],
      "metadata": {
        "id": "EM7whBJCYoAo"
      }
    },
    {
      "cell_type": "code",
      "source": [
        "# Chart - 3 visualization code\n",
        "#Groupby adr,total,stay,hotel.\n",
        "adr_and_stay = Hotel_booking_df1.groupby(['total_stays','adr','hotel']).agg('count').reset_index()\n",
        "adr_and_stay = adr_and_stay.iloc[:,:3]\n",
        "adr_and_stay = adr_and_stay.rename(columns={'is_canceled':'Number of stays'})\n",
        "adr_and_stay =adr_and_stay[:18000]\n",
        "adr_and_stay"
      ],
      "metadata": {
        "id": "t6GMdE67YoAp"
      },
      "execution_count": null,
      "outputs": []
    },
    {
      "cell_type": "code",
      "source": [
        "\n",
        "#Ploting the graph in line chart.\n",
        "plt.figure(figsize=(16,8))\n",
        "sns.lineplot(x='total_stays',y='adr',data=adr_and_stay)\n",
        "plt.xlabel('Total_stay',fontsize=15)\n",
        "plt.ylabel('ADR',fontsize=15)\n",
        "plt.title('Relationshio between ADR and Total stay',fontsize=15)"
      ],
      "metadata": {
        "id": "n6s3pHAqssQS"
      },
      "execution_count": null,
      "outputs": []
    },
    {
      "cell_type": "markdown",
      "source": [
        "##### 1. Why did you pick the specific chart?"
      ],
      "metadata": {
        "id": "fge-S5ZAYoAp"
      }
    },
    {
      "cell_type": "markdown",
      "source": [
        "This is a line chart, which helps to visualize small or slight changes in the graph easily. It allows us to track the ups and downs of the graph with precision."
      ],
      "metadata": {
        "id": "5dBItgRVYoAp"
      }
    },
    {
      "cell_type": "markdown",
      "source": [
        "##### 2. What is/are the insight(s) found from the chart?"
      ],
      "metadata": {
        "id": "85gYPyotYoAp"
      }
    },
    {
      "cell_type": "markdown",
      "source": [
        "From this line chart, we can observe that as the total stay increases, the Average Daily Rate (ADR) also increases. This indicates that the total stays are directly proportional to the ADR."
      ],
      "metadata": {
        "id": "4jstXR6OYoAp"
      }
    },
    {
      "cell_type": "markdown",
      "source": [
        "##### 3. Will the gained insights help creating a positive business impact?\n",
        "Are there any insights that lead to negative growth? Justify with specific reason."
      ],
      "metadata": {
        "id": "RoGjAbkUYoAp"
      }
    },
    {
      "cell_type": "markdown",
      "source": [
        "\n",
        "So, hotels should focus on increasing their ADR. This can be achieved by investing in more advertising, improving facilities, and offering attractive deals to encourage guests to stay for longer durations. By doing so, hotels can directly impact their ADR and overall business revenue positively. Therefore, it is recommended for hotels to increase advertising efforts and enhance their facilities to attract more guests and ultimately increase the total stay duration."
      ],
      "metadata": {
        "id": "zfJ8IqMcYoAp"
      }
    },
    {
      "cell_type": "markdown",
      "source": [
        "#### Chart - 4  **Percentage of Repeated Guests (Univariate)**"
      ],
      "metadata": {
        "id": "4Of9eVA-YrdM"
      }
    },
    {
      "cell_type": "code",
      "source": [
        "# Chart - 4 visualization code\n",
        "Hotel_booking_df1['is_repeated_guest'].value_counts().plot.pie(explode=(0.05,0.05),autopct='%1.1f%%',shadow=True,figsize=(14,10),fontsize=20,)\n",
        "plt.title('Percentage (%) of repeated guests',fontsize=15)"
      ],
      "metadata": {
        "id": "irlUoxc8YrdO"
      },
      "execution_count": null,
      "outputs": []
    },
    {
      "cell_type": "markdown",
      "source": [
        "##### 1. Why did you pick the specific chart?"
      ],
      "metadata": {
        "id": "iky9q4vBYrdO"
      }
    },
    {
      "cell_type": "markdown",
      "source": [
        "I chose a pie chart because it effectively represents proportional or relative data in a single chart. This pie chart displays the percentage of repeated guests where 0 represents non-repeated guests and 1 represents repeated guests using different segments of the circle."
      ],
      "metadata": {
        "id": "aJRCwT6DYrdO"
      }
    },
    {
      "cell_type": "markdown",
      "source": [
        "##### 2. What is/are the insight(s) found from the chart?"
      ],
      "metadata": {
        "id": "F6T5p64dYrdO"
      }
    },
    {
      "cell_type": "markdown",
      "source": [
        "Only 3.9% of guests are repeated guests, while a majority of 96.1% do not return to the same hotel. To increase the number of repeated guests, it is important for management to think and take proper steps. One effective approach is to gather feedback from guests and work on improving the service. By doing so, hotels can enhance guest satisfaction and increase the chances of guests returning in the future."
      ],
      "metadata": {
        "id": "Xx8WAJvtYrdO"
      }
    },
    {
      "cell_type": "markdown",
      "source": [
        "##### 3. Will the gained insights help creating a positive business impact?\n",
        "Are there any insights that lead to negative growth? Justify with specific reason."
      ],
      "metadata": {
        "id": "y-Ehk30pYrdP"
      }
    },
    {
      "cell_type": "markdown",
      "source": [
        "\n",
        "The percentage of repeated guests is very low, but hotels have the opportunity to increase it by providing excellent service and attractive offers. Taking feedback from guests, resolving their issues promptly, and offering enticing deals can help in retaining customers and increasing revenue."
      ],
      "metadata": {
        "id": "jLNxxz7MYrdP"
      }
    },
    {
      "cell_type": "markdown",
      "source": [
        "#### Chart - 5 **Percentage Distribution of Required Car Parking Spaces (Univariate)**"
      ],
      "metadata": {
        "id": "bamQiAODYuh1"
      }
    },
    {
      "cell_type": "code",
      "source": [
        "# Chart - 5 visualization code\n",
        "Hotel_booking_df1['required_car_parking_spaces'].value_counts().plot.pie(explode=[0.05]*5,autopct='%1.1f%%',shadow=False,figsize=(14,20),fontsize=15,labels=None)\n",
        "labels=Hotel_booking_df1['required_car_parking_spaces'].value_counts().index\n",
        "plt.title('% Distrubution of required car parking space',fontsize=15)\n",
        "plt.legend(bbox_to_anchor=(0.85,1),loc='upper left',labels=labels)"
      ],
      "metadata": {
        "id": "TIJwrbroYuh3"
      },
      "execution_count": null,
      "outputs": []
    },
    {
      "cell_type": "markdown",
      "source": [
        "##### 1. Why did you pick the specific chart?"
      ],
      "metadata": {
        "id": "QHF8YVU7Yuh3"
      }
    },
    {
      "cell_type": "markdown",
      "source": [
        "We chose a pie chart because it presents information in a clear and understandable way. The different colors in the chart represent the demand for car parking space by guests."
      ],
      "metadata": {
        "id": "dcxuIMRPYuh3"
      }
    },
    {
      "cell_type": "markdown",
      "source": [
        "##### 2. What is/are the insight(s) found from the chart?"
      ],
      "metadata": {
        "id": "GwzvFGzlYuh3"
      }
    },
    {
      "cell_type": "markdown",
      "source": [
        "The pie chart shows that 91.6% of guests do not require car parking space, while only 8.3% of guests require just one parking space."
      ],
      "metadata": {
        "id": "uyqkiB8YYuh3"
      }
    },
    {
      "cell_type": "markdown",
      "source": [
        "##### 3. Will the gained insights help creating a positive business impact?\n",
        "Are there any insights that lead to negative growth? Justify with specific reason."
      ],
      "metadata": {
        "id": "qYpmQ266Yuh3"
      }
    },
    {
      "cell_type": "markdown",
      "source": [
        "The insights gained from the chart can have a positive impact on the hotel's operations. Since only a small percentage of guests require car parking space, the hotel can allocate limited parking space and utilize the remaining space for other important purposes. This allows the hotel to focus on improving other areas and enhancing the overall quality of the guest experience."
      ],
      "metadata": {
        "id": "_WtzZ_hCYuh4"
      }
    },
    {
      "cell_type": "markdown",
      "source": [
        "#### Chart - 6 **Meal type Distrubution(Univariate)**"
      ],
      "metadata": {
        "id": "OH-pJp9IphqM"
      }
    },
    {
      "cell_type": "code",
      "source": [
        "# Chart - 6 visualization code\n",
        "plt.figure(figsize=(18,10))\n",
        "sns.countplot(x=Hotel_booking_df1['meal'])\n",
        "plt.xlabel('Meal Type',fontsize=15)\n",
        "plt.ylabel('Count',fontsize=15)\n",
        "plt.title('Perferred Meal Type',fontsize=15)"
      ],
      "metadata": {
        "id": "kuRf4wtuphqN"
      },
      "execution_count": null,
      "outputs": []
    },
    {
      "cell_type": "markdown",
      "source": [
        "##### 1. Why did you pick the specific chart?"
      ],
      "metadata": {
        "id": "bbFf2-_FphqN"
      }
    },
    {
      "cell_type": "markdown",
      "source": [
        "I chose the count plot chart to gain clear insights into the counts of different types of meals. This chart provides a visual representation of the meal preferences, making it easier to understand the distribution of meal types."
      ],
      "metadata": {
        "id": "loh7H2nzphqN"
      }
    },
    {
      "cell_type": "markdown",
      "source": [
        "##### 2. What is/are the insight(s) found from the chart?"
      ],
      "metadata": {
        "id": "_ouA3fa0phqN"
      }
    },
    {
      "cell_type": "markdown",
      "source": [
        "The insights derived from the count plot graph are as follows: the most preferred meal type by the guests is BB (Bed and Breakfast), while FB (Full Board) is the least preferred meal type. The list of meal types is as follows: BB (Bed and Breakfast), FB (Full Board), HB (Half Board), SC (Self Catering)."
      ],
      "metadata": {
        "id": "VECbqPI7phqN"
      }
    },
    {
      "cell_type": "markdown",
      "source": [
        "##### 3. Will the gained insights help creating a positive business impact?\n",
        "Are there any insights that lead to negative growth? Justify with specific reason."
      ],
      "metadata": {
        "id": "Seke61FWphqN"
      }
    },
    {
      "cell_type": "markdown",
      "source": [
        "So,the insights here also have positive impact as hotels need to focus more on the BB meal type so that the majority of customers are satisfied whilw others type of meals should be given equal importance with proper management of food service so as to offer best services so as to offer best serivces to customers."
      ],
      "metadata": {
        "id": "DW4_bGpfphqN"
      }
    },
    {
      "cell_type": "markdown",
      "source": [
        "#### Chart - 7 **Pie chart for Mostly used Distribution channel and Relationship of Distribution channel and adr**"
      ],
      "metadata": {
        "id": "PIIx-8_IphqN"
      }
    },
    {
      "cell_type": "code",
      "source": [
        "# Chart - 7 visualization code\n",
        "#Creating labels\n",
        "labels = Hotel_booking_df1['distribution_channel'].value_counts().index.tolist()\n",
        "#Creating new df distribution channel\n",
        "distribution_channel_df=Hotel_booking_df1['distribution_channel'].value_counts().reset_index().rename(columns={'index':'ditribution_channel','distribution_channel':'count'})\n",
        "#Adding percentage column to the distribution_channel\n",
        "distribution_channel_df['percentage']=round(distribution_channel_df['count']*100/Hotel_booking_df1.shape[0],1)\n",
        "#Creating list to the percentage\n",
        "sizes=distribution_channel_df['percentage'].values.tolist()\n",
        "#Ploting the pie chart\n",
        "Hotel_booking_df1['distribution_channel'].value_counts().plot.pie(explode=[0.05,0.05,0.05,0.05,0.05],shadow=False,figsize=(15,8),fontsize=10,labels=None)\n",
        "#Seting legend with the percentage values.\n",
        "labels = [f'{l},{s}%' for l,s in zip(labels,sizes)]\n",
        "plt.legend(bbox_to_anchor=(0.85,1),loc='upper left',labels=labels)\n",
        "plt.title('Mostly used Distribution channel for Hotel Bookings',fontsize=15)"
      ],
      "metadata": {
        "id": "lqAIGUfyphqO"
      },
      "execution_count": null,
      "outputs": []
    },
    {
      "cell_type": "code",
      "source": [
        "#Using groupby distribution channel\n",
        "distribution_channel_df=Hotel_booking_df.groupby(['distribution_channel','hotel'])['adr'].mean().reset_index()\n",
        "#Set plot size and plot barchart\n",
        "plt.figure(figsize=(16,8))\n",
        "sns.barplot(x='distribution_channel',y='adr',data=distribution_channel_df,hue='hotel')\n",
        "plt.title('ADR across Distribution channel')"
      ],
      "metadata": {
        "id": "bXreI_g9xxXO"
      },
      "execution_count": null,
      "outputs": []
    },
    {
      "cell_type": "markdown",
      "source": [
        "##### 1. Why did you pick the specific chart?"
      ],
      "metadata": {
        "id": "t27r6nlMphqO"
      }
    },
    {
      "cell_type": "markdown",
      "source": [
        "The first visualization is a pie chart, which provides a clear understanding of the distribution of booking channels and their occupancy percentages. This chart helps visualize the proportion of bookings coming from each channel, allowing for easy comparison and identification of the most commonly used channel.\n",
        "The second visualization is a bar chart, which displays the frequency count of values for different levels of a categorical or nominal variable. This chart is useful for showing the distribution and comparison of different categories or levels."
      ],
      "metadata": {
        "id": "iv6ro40sphqO"
      }
    },
    {
      "cell_type": "markdown",
      "source": [
        "##### 2. What is/are the insight(s) found from the chart?"
      ],
      "metadata": {
        "id": "r2jJGEOYphqO"
      }
    },
    {
      "cell_type": "markdown",
      "source": [
        "From the first chart, we can observe that the TA/TO channel is the most frequently used for hotel bookings, accounting for 79.1% of the bookings. Direct bookings constitute 14.9%, corporate bookings constitute 5.8%, GDS bookings constitute only 0.2%, and the remaining bookings are undefined, amounting to 0%.\n",
        "From the second chart, it is evident that both 'Direct' and 'TA/TO' channels contribute almost equally to the average daily rate (ADR) in both types of hotels, i.e., 'City Hotel' and 'Resort Hotel'. However, GDS has a significant contribution to the ADR in 'City Hotel' type, while it needs to increase its share in resort hotel bookings. Corporate bookings also play a role in ADR, particularly for corporate-focused hotels."
      ],
      "metadata": {
        "id": "Po6ZPi4hphqO"
      }
    },
    {
      "cell_type": "markdown",
      "source": [
        "##### 3. Will the gained insights help creating a positive business impact?\n",
        "Are there any insights that lead to negative growth? Justify with specific reason."
      ],
      "metadata": {
        "id": "b0JNsNcRphqO"
      }
    },
    {
      "cell_type": "markdown",
      "source": [
        "The gained insights from the first chart suggest that focusing on building strong relationships with the TA/TO channel, which is the leading booking channel, can contribute to positive business impact and revenue growth. Direct and corporate bookings, although occupying a smaller share, have potential for growth, and efforts can be made to improve their contribution.\n",
        "\n",
        "The insights from the second chart can also have a positive impact on business. Recognizing the dominance of GDS in ADR for 'City Hotel' type allows hotels to leverage this channel and maximize revenue. At the same time, identifying the need for GDS to increase its share in resort hotel bookings highlights an opportunity for growth. By taking appropriate steps to target the right audience and improve distribution strategies, overall revenue can be increased.\n",
        "\n",
        "Overall, the insights gained from both visualizations can guide strategic decision-making, enhance marketing efforts, and lead to positive business outcomes."
      ],
      "metadata": {
        "id": "xvSq8iUTphqO"
      }
    },
    {
      "cell_type": "markdown",
      "source": [
        "#### Chart - 8 **Bookings by month and Optimal Stay length in hotels**"
      ],
      "metadata": {
        "id": "BZR9WyysphqO"
      }
    },
    {
      "cell_type": "code",
      "source": [
        "# Chart - 8 visualization code\n",
        "#Using groupby on arrival_date_month and taking the hotel count\n",
        "Bookings_by_months_df=Hotel_booking_df1.groupby(['arrival_date_month'])['hotel'].count().reset_index().rename(columns={'hotel':'counts'})\n",
        "#Create list of months in order\n",
        "months=['January','February','March','April','May','June','July','August','September','October','November','December']\n",
        "#Creating df which will map the order of above months list without changing its values.\n",
        "Bookings_by_months_df['arrival_date_month'] = pd.Categorical(Bookings_by_months_df['arrival_date_month'],categories=months,ordered=True)\n",
        "#Sorting by arrival_date_month\n",
        "Bookings_by_months_df=Bookings_by_months_df.sort_values('arrival_date_month')\n",
        "\n",
        "Bookings_by_months_df\n",
        ""
      ],
      "metadata": {
        "id": "TdPTWpAVphqO"
      },
      "execution_count": null,
      "outputs": []
    },
    {
      "cell_type": "code",
      "source": [
        "\n",
        "#Set plot size\n",
        "plt.figure(figsize=(22,10))\n",
        "#Plotting lineplot\n",
        "sns.lineplot(x=Bookings_by_months_df['arrival_date_month'],y=Bookings_by_months_df['counts'])\n",
        "#Set title for the plot\n",
        "plt.title('Number of bookings across each month',fontsize=15)\n",
        "#set x label\n",
        "plt.xlabel('Month',fontsize=15)\n",
        "#Set y label\n",
        "plt.ylabel('Number of bookings',fontsize=15)"
      ],
      "metadata": {
        "id": "xRrAZoR-9E_D"
      },
      "execution_count": null,
      "outputs": []
    },
    {
      "cell_type": "code",
      "source": [
        "#Using group by function on total_stay and hotel\n",
        "stay = Hotel_booking_df1.groupby(['total_stays','hotel']).agg('count').reset_index()\n",
        "#Taking only first three columns\n",
        "stay = stay.iloc[:,:3]\n",
        "#Renaming the columns\n",
        "stay = stay.rename(columns={'is_canceled':'Number of stays'})"
      ],
      "metadata": {
        "id": "dIBPwxY19Lhr"
      },
      "execution_count": null,
      "outputs": []
    },
    {
      "cell_type": "code",
      "source": [
        "\n",
        "#Setting plot size plot barchart\n",
        "plt.figure(figsize=(20,10))\n",
        "sns.barplot(x='total_stays',y='Number of stays',hue='hotel',data=stay)\n",
        "#Set labels\n",
        "plt.title('Optimal Stay Length in Both hotel types',fontsize=15)\n",
        "plt.ylabel('Count of  stays',fontsize=15)\n",
        "plt.xlabel('Total_stay(days)',fontsize=15)"
      ],
      "metadata": {
        "id": "NvhzAWJj9O7h"
      },
      "execution_count": null,
      "outputs": []
    },
    {
      "cell_type": "markdown",
      "source": [
        "##### 1. Why did you pick the specific chart?"
      ],
      "metadata": {
        "id": "jj7wYXLtphqO"
      }
    },
    {
      "cell_type": "markdown",
      "source": [
        "We chose the line chart to show the number of bookings over different months. It helps us easily track any trends or shifts in booking patterns.\n",
        "\n",
        "For the second chart, we used a bar plot to compare the total length of stays in days with the count of stays."
      ],
      "metadata": {
        "id": "Ob8u6rCTphqO"
      }
    },
    {
      "cell_type": "markdown",
      "source": [
        "##### 2. What is/are the insight(s) found from the chart?"
      ],
      "metadata": {
        "id": "eZrbJ2SmphqO"
      }
    },
    {
      "cell_type": "markdown",
      "source": [
        "From the first chart, we found that July and August had the highest number of bookings. This could be because those months coincide with the summer vacation period.\n",
        "In the second chart, we discovered that most guests prefer to stay for less than 7 days. Stays longer than 7 days showed a decline in numbers."
      ],
      "metadata": {
        "id": "mZtgC_hjphqO"
      }
    },
    {
      "cell_type": "markdown",
      "source": [
        "##### 3. Will the gained insights help creating a positive business impact?\n",
        "Are there any insights that lead to negative growth? Justify with specific reason."
      ],
      "metadata": {
        "id": "rFu4xreNphqO"
      }
    },
    {
      "cell_type": "markdown",
      "source": [
        "The insights gained can have a positive impact on business. Knowing that July and August are peak booking months allows hotels to plan and prepare for increased demand during that time. By allocating resources effectively, hotels can provide better services and potentially increase revenue.\n",
        "\n",
        "Similarly, understanding that guests prefer shorter stays helps hotels tailor their offerings to meet customer expectations. By focusing on delivering excellent experiences within shorter stays, hotels can enhance customer satisfaction and encourage repeat business.\n",
        "\n",
        "These insights do not suggest any negative growth. Instead, they provide opportunities for hotels to make informed decisions and align their strategies with customer preferences, ultimately leading to positive business outcomes."
      ],
      "metadata": {
        "id": "ey_0qi68phqO"
      }
    },
    {
      "cell_type": "markdown",
      "source": [
        "#### Chart - 9 **Plotting Histogram**"
      ],
      "metadata": {
        "id": "YJ55k-q6phqO"
      }
    },
    {
      "cell_type": "code",
      "source": [
        "# Chart - 9 visualization code\n",
        "Hotel_booking_df1.hist(figsize=(24,18))\n",
        "plt.show()\n",
        ""
      ],
      "metadata": {
        "id": "B2aS4O1ophqO"
      },
      "execution_count": null,
      "outputs": []
    },
    {
      "cell_type": "markdown",
      "source": [
        "##### 1. Why did you pick the specific chart?"
      ],
      "metadata": {
        "id": "gCFgpxoyphqP"
      }
    },
    {
      "cell_type": "markdown",
      "source": [
        "To understanding the data in clear way with proper insights,I have used the histogram here.Itr is used to summarize discrete or continuoud data that are measured on an interval scale.It is often used to illustrate the major feautures of the distribution of the data in convenient form.It is also usefuk when dealing with large data sets (greater than 100 observation).It can help detect any unusual observation (outliers)or any gaps in the data.Thus we have used the histogram plot to analysis the variable distribution over the whole dataset whether it's symmetric or not."
      ],
      "metadata": {
        "id": "TVxDimi2phqP"
      }
    },
    {
      "cell_type": "markdown",
      "source": [
        "##### 2. What is/are the insight(s) found from the chart?"
      ],
      "metadata": {
        "id": "OVtJsKN_phqQ"
      }
    },
    {
      "cell_type": "markdown",
      "source": [
        "Some insights found the chart as follows:\n",
        "\n",
        "**1.** We can see that the maximum guest came in the year 2016.\n",
        "**2.**Maximum arrival week number is 30.\n",
        "**3.**Maximum arrival happens in the last of the month.\n",
        "**4.**Maximum guests comes with no children.\n",
        "**5.**There is very less requrement of car parking spaces."
      ],
      "metadata": {
        "id": "ngGi97qjphqQ"
      }
    },
    {
      "cell_type": "markdown",
      "source": [
        "##### 3. Will the gained insights help creating a positive business impact?\n",
        "Are there any insights that lead to negative growth? Justify with specific reason."
      ],
      "metadata": {
        "id": "lssrdh5qphqQ"
      }
    },
    {
      "cell_type": "markdown",
      "source": [
        "\n",
        "Just histogram cannot define buisness impact.it's done just to see the distribution of the column data over the dataset."
      ],
      "metadata": {
        "id": "tBpY5ekJphqQ"
      }
    },
    {
      "cell_type": "markdown",
      "source": [
        "#### Chart - 10 **Year and Hotel wise confirmed bookings and cancellation distribution**"
      ],
      "metadata": {
        "id": "U2RJ9gkRphqQ"
      }
    },
    {
      "cell_type": "code",
      "source": [
        "# Chart - 10 visualization code\n",
        "#Plotting a count plot chart using seaborn for counts of confirmed and cancelled booking\n",
        "plt.figure(figsize=(14,6))\n",
        "sns.countplot(x= 'hotel',hue='is_canceled',palette='Set2', data=Hotel_booking_df1)\n",
        "plt.legend(['Confirmed','Canceled'])\n",
        "plt.title(\"Hotel wise confirmation and cancellation of the bookings\",fontsize=20)\n",
        "plt.xlabel(\"Hotel\",fontsize=15)\n",
        "plt.ylabel(\"Count of confirmation and cancellations\",fontsize=15)"
      ],
      "metadata": {
        "id": "GM7a4YP4phqQ"
      },
      "execution_count": null,
      "outputs": []
    },
    {
      "cell_type": "code",
      "source": [
        "#Removing the cancelled bookings from the data and creating a new dataframe\n",
        "data_not_canceled = Hotel_booking_df1[Hotel_booking_df1['is_canceled']==0]\n",
        "#Year wise Bookings of hotels\n",
        "sns.set_style(style='darkgrid')\n",
        "plt.figure(figsize=(12,5))\n",
        "sns.countplot(x='arrival_date_year',hue='hotel',palette='tab10',data=data_not_canceled)\n",
        "plt.legend(['Resort Hotel','City Hotel'])\n",
        "plt.title('Year wise booking of hotels',fontsize=18)\n",
        "plt.xlabel('Year',fontsize=15)\n",
        "plt.ylabel('Number of booking',fontsize=15)"
      ],
      "metadata": {
        "id": "eNGQeIAk_nst"
      },
      "execution_count": null,
      "outputs": []
    },
    {
      "cell_type": "markdown",
      "source": [
        "##### 1. Why did you pick the specific chart?"
      ],
      "metadata": {
        "id": "1M8mcRywphqQ"
      }
    },
    {
      "cell_type": "markdown",
      "source": [
        "Additionally, we created a year-wise count plot to analyze the number of bookings over different years."
      ],
      "metadata": {
        "id": "8agQvks0phqQ"
      }
    },
    {
      "cell_type": "markdown",
      "source": [
        "##### 2. What is/are the insight(s) found from the chart?"
      ],
      "metadata": {
        "id": "tgIPom80phqQ"
      }
    },
    {
      "cell_type": "markdown",
      "source": [
        "We can clearly deduce from the above graphs that the city hotel is having greater number of bookings as compared to Resort hotel.But we can clearly sees that number of cancellation in city hotel is higher than the resort hotel.\n",
        "\n",
        "From the above graphs,it can be summarised that in the year 2016 both the hotel saw a massive in their bookings and by far the highest number of bookings."
      ],
      "metadata": {
        "id": "Qp13pnNzphqQ"
      }
    },
    {
      "cell_type": "markdown",
      "source": [
        "##### 3. Will the gained insights help creating a positive business impact?\n",
        "Are there any insights that lead to negative growth? Justify with specific reason."
      ],
      "metadata": {
        "id": "JMzcOPDDphqR"
      }
    },
    {
      "cell_type": "markdown",
      "source": [
        "Overall, the graphs show a positive impact. However, there is a concerning factor, which is the cancellation rate of the city hotel bookings. To address this issue, it is important to analyze the reasons behind these cancellations and take appropriate measures at the business level to mitigate the problem. By identifying and resolving the underlying issues causing cancellations, the negative growth trend can be addressed, leading to improved business performance."
      ],
      "metadata": {
        "id": "R4Ka1PC2phqR"
      }
    },
    {
      "cell_type": "markdown",
      "source": [
        "#### Chart - 11 **ADR across different months**"
      ],
      "metadata": {
        "id": "x-EpHcCOp1ci"
      }
    },
    {
      "cell_type": "code",
      "source": [
        "# Chart - 11 visualization code\n",
        "\n",
        "Bookings_by_months_df=Hotel_booking_df1.groupby(['arrival_date_month','hotel'])['adr'].mean().reset_index()\n",
        "#Creating the month list\n",
        "\n",
        "months=['January','February','March','April','May','June','July','August','September','October','November','December']\n",
        "\n",
        "#It will take the order of the month list in the DataFrame along with values\n",
        "Bookings_by_months_df['arrival_date_month']=pd.Categorical(Bookings_by_months_df['arrival_date_month'],categories=months,ordered=True)\n",
        "#Sorting the values\n",
        "Bookings_by_months_df=Bookings_by_months_df.sort_values('arrival_date_month')\n",
        "\n",
        "Bookings_by_months_df"
      ],
      "metadata": {
        "id": "mAQTIvtqp1cj"
      },
      "execution_count": null,
      "outputs": []
    },
    {
      "cell_type": "code",
      "source": [
        "#Setting the plot size and plotting the line\n",
        "plt.figure(figsize=(22,10))\n",
        "sns.lineplot(x=Bookings_by_months_df['arrival_date_month'],y=Bookings_by_months_df['adr'],hue=Bookings_by_months_df['hotel'])\n",
        "\n",
        "#Setting the label\n",
        "plt.title('ADR across each month',fontsize=20)\n",
        "plt.xlabel('Month',fontsize=15)\n",
        "plt.ylabel('ADR',fontsize=15)"
      ],
      "metadata": {
        "id": "XWXZAWdLAkMJ"
      },
      "execution_count": null,
      "outputs": []
    },
    {
      "cell_type": "markdown",
      "source": [
        "##### 1. Why did you pick the specific chart?"
      ],
      "metadata": {
        "id": "X_VqEhTip1ck"
      }
    },
    {
      "cell_type": "markdown",
      "source": [
        "\n",
        "We have chosen to use a line chart to gain clear insights into the Average Daily Rate (ADR) of City and Resort Hotels across each month. The line chart is a useful visualization tool as it allows us to easily spot small shifts or trends that may be difficult to identify in other types of graphs. It helps us understand the changes in ADR over different time periods. Additionally, line charts are easy to comprehend and compare, as multiple lines can be plotted on the same axis, enabling a visual comparison of data."
      ],
      "metadata": {
        "id": "-vsMzt_np1ck"
      }
    },
    {
      "cell_type": "markdown",
      "source": [
        "##### 2. What is/are the insight(s) found from the chart?"
      ],
      "metadata": {
        "id": "8zGJKyg5p1ck"
      }
    },
    {
      "cell_type": "markdown",
      "source": [
        "\n",
        "The insights found in this chart are as follows:\n",
        "\n",
        "**1.**  For the Resort Hotel, the Average Daily Rate (ADR) is higher in the months of June, July, and August compared to the City Hotels. This could be due to people choosing to spend their summer vacations in Resort hotels, leading to increased demand and higher rates.\n",
        "\n",
        "**2.** The best time for guests to visit either the Resort or City Hotel is during the months of January, February, March, April, October, November, and December. During these months, the average daily rates are significantly lower, making it a more affordable and comfortable time to stay at the hotels.\n"
      ],
      "metadata": {
        "id": "ZYdMsrqVp1ck"
      }
    },
    {
      "cell_type": "markdown",
      "source": [
        "##### 3. Will the gained insights help creating a positive business impact?\n",
        "Are there any insights that lead to negative growth? Justify with specific reason."
      ],
      "metadata": {
        "id": "PVzmfK_Ep1ck"
      }
    },
    {
      "cell_type": "markdown",
      "source": [
        "So the higher the adr,the higher will be the revenue so it is good signs Hotels should work more to enhance their adr by offering good schemes to attract the customer in winter vacations also and on other holidays."
      ],
      "metadata": {
        "id": "druuKYZpp1ck"
      }
    },
    {
      "cell_type": "markdown",
      "source": [
        "#### Chart - 12 **Weekly stay distribution and calculation of cancellation and non-cancellation**\n",
        "\n"
      ],
      "metadata": {
        "id": "n3dbpmDWp1ck"
      }
    },
    {
      "cell_type": "code",
      "source": [
        "# Chart - 12 visualization code\n",
        "#As we haved already created a column \"total stay\" above i.e\n",
        "#Adding total staying days in hotels\n",
        "Hotel_booking_df1['total_stays'] = Hotel_booking_df1['stays_in_weekend_nights'] + Hotel_booking_df1['stays_in_week_nights']\n",
        "#Using a violoin plot to know in which weeks,visitors stays the most\n",
        "plt.figure(figsize=(20,10))\n",
        "sns.violinplot(x='arrival_date_week_number',y='total_stays',palette='Set2',data=Hotel_booking_df1)\n",
        "plt.title('Week wise number of stays',fontsize=20)\n",
        "plt.xlabel('Week number',fontsize=15)\n",
        "plt.ylabel('Number of stays',fontsize=15)"
      ],
      "metadata": {
        "id": "bwevp1tKp1ck"
      },
      "execution_count": null,
      "outputs": []
    },
    {
      "cell_type": "code",
      "source": [
        "#Cancellation and non cancellation pie chart\n",
        "Hotel_booking_df1['is_canceled'].value_counts().plot.pie(explode=[0.05,0.05],autopct='%1.1f%%',shadow=True,figsize=(12,8),fontsize=20)\n",
        "plt.title('Cancellation and non cancellation', fontsize=15)\n",
        ""
      ],
      "metadata": {
        "id": "5ccgW_GHB5__"
      },
      "execution_count": null,
      "outputs": []
    },
    {
      "cell_type": "markdown",
      "source": [
        "##### 1. Why did you pick the specific chart?"
      ],
      "metadata": {
        "id": "ylSl6qgtp1ck"
      }
    },
    {
      "cell_type": "markdown",
      "source": [
        "\n",
        "We have used a violin plot to analyze the relationship between the number of stays and the week-wise number of stays. Violin plots are effective in visualizing the distribution of numeric data and allow for comparisons between multiple groups.\n",
        "\n",
        "Additionally, we have utilized a pie plot to examine the cancellation status of tickets. In the pie plot, we can observe that 27.5% of tickets were canceled. The pie plot represents the data visually as a fractional part of a whole, making it an efficient communication tool to compare data at a glance. It is particularly useful for quick analysis and understanding of information, even for audiences who may not be familiar with the data."
      ],
      "metadata": {
        "id": "m2xqNkiQp1ck"
      }
    },
    {
      "cell_type": "markdown",
      "source": [
        "##### 2. What is/are the insight(s) found from the chart?"
      ],
      "metadata": {
        "id": "ZWILFDl5p1ck"
      }
    },
    {
      "cell_type": "markdown",
      "source": [
        "From the violin plot, we can observe that the weeks 28 to 31 have shown the highest number of days of stay, indicating a peak period of extended stays. On the other hand, the weeks 1 to 11 demonstrate a relatively steady trend in the number of stays. Additionally, the weeks 18 to 22 have shown the least number of stays by visitors across the three years 2015, 2016, and 2017.\n",
        "\n",
        "Moreover, the pie plot reveals that more than a quarter of the overall bookings, approximately 27.5% of the tickets, were canceled. This insight highlights the significance of cancellations as a factor affecting the hotel's operations and revenue."
      ],
      "metadata": {
        "id": "x-lUsV2mp1ck"
      }
    },
    {
      "cell_type": "markdown",
      "source": [
        "##### 3. Will the gained insights help creating a positive business impact?\n",
        "Are there any insights that lead to negative growth? Justify with specific reason."
      ],
      "metadata": {
        "id": "M7G43BXep1ck"
      }
    },
    {
      "cell_type": "markdown",
      "source": [
        "\n",
        "Yes, according to the outcomes, the client can develop a better plan to improve their service and enhance the guest experience, ultimately leading to increased revenue. The high cancellation rate of over 27% is a significant concern that requires immediate attention. To address this issue, it is essential to investigate and understand the reasons behind the cancellations. By identifying the root causes and taking appropriate measures at the business level, such as improving policies, addressing customer concerns, and providing incentives for non-cancellation, the client can mitigate the problem and prevent it from becoming more widespread."
      ],
      "metadata": {
        "id": "5wwDJXsLp1cl"
      }
    },
    {
      "cell_type": "markdown",
      "source": [
        "#### Chart - 13 **Room type preference and Customer types**"
      ],
      "metadata": {
        "id": "Ag9LCva-p1cl"
      }
    },
    {
      "cell_type": "code",
      "source": [
        "# Chart - 13 visualization code\n",
        "#Set plotsize\n",
        "plt.figure(figsize=(20,10))\n",
        "#Ploting seaborn countploting\n",
        "sns.countplot(x=Hotel_booking_df1['assigned_room_type'],order=Hotel_booking_df1['assigned_room_type'].value_counts().index)\n",
        "#Set xlabel for the plot\n",
        "plt.xlabel('Room Type',fontsize=15)\n",
        "#Set ylabel for the plot\n",
        "plt.ylabel('Count of Room Type',fontsize=15)\n",
        "#set title for the plot\n",
        "plt.title(\"Most preferred Room type\",fontsize=15)"
      ],
      "metadata": {
        "id": "EUfxeq9-p1cl"
      },
      "execution_count": null,
      "outputs": []
    },
    {
      "cell_type": "code",
      "source": [
        "#Using seaborn to plot a count plot chart to demonstrate the types of customes visit the most\n",
        "plt.figure(figsize=(16,7))\n",
        "sns.countplot(x='arrival_date_month',hue='customer_type',palette='Set2',data=Hotel_booking_df1)\n",
        "plt.title('Types of customer arrived month wise',fontsize=18)\n",
        "plt.xlabel('Number of customers',fontsize=15)\n",
        "plt.ylabel('Months',fontsize=15)\n",
        ""
      ],
      "metadata": {
        "id": "D_7-kuH0Ctcr"
      },
      "execution_count": null,
      "outputs": []
    },
    {
      "cell_type": "markdown",
      "source": [
        "##### 1. Why did you pick the specific chart?"
      ],
      "metadata": {
        "id": "E6MkPsBcp1cl"
      }
    },
    {
      "cell_type": "markdown",
      "source": [
        "For the first visualization, we have chosen a bar chart to display the results of this set of code. In this case, a bar graph is used to show the distribution of the volume (count of rooms) and the type of room allotted. A bar graph is effective in summarizing a large set of data in a visual form and allows for a clearer understanding of the data trend compared to a table. Therefore, a bar graph is suitable for this purpose.\n",
        "\n",
        "For the second visualization, a count plot is used because it helps us to clearly visualize the total number of guests visited. A count plot provides a visual representation of the frequency of different categories or values in a dataset. In this case, it helps us understand the distribution of guest types. Hence, a count plot is appropriate for this analysis."
      ],
      "metadata": {
        "id": "V22bRsFWp1cl"
      }
    },
    {
      "cell_type": "markdown",
      "source": [
        "##### 2. What is/are the insight(s) found from the chart?"
      ],
      "metadata": {
        "id": "2cELzS2fp1cl"
      }
    },
    {
      "cell_type": "markdown",
      "source": [
        "From the above chart it is found that the most preferred Room type is \"A\".Majority of people show the intrest on the type \"A\" is most prefered guests.\n",
        "\n",
        "From the above graph it can be summarised that the Transient type of customers visit the most whereas the visitors who are in group comes in the category of least visitors."
      ],
      "metadata": {
        "id": "ozQPc2_Ip1cl"
      }
    },
    {
      "cell_type": "markdown",
      "source": [
        "##### 3. Will the gained insights help creating a\n",
        "\n",
        "---\n",
        "\n",
        "positive business impact?\n",
        "\n",
        "---\n",
        "\n",
        "\n",
        "Are there any insights that lead to negative growth? Justify with specific reason."
      ],
      "metadata": {
        "id": "3MPXvC8up1cl"
      }
    },
    {
      "cell_type": "markdown",
      "source": [
        "Yes, From the graph,it can be seen that there are positive impacts because 'A'D'E' is more prefered by guest due to better services offered in room type. So overall booking in a hotel matters So,each room type belongs to each hotel so wherever customers goes the hotel will be benefit but Hotels should also look in the factors affecting less preference in some particular room type. So,overall if other room types will also gain popularity then again hotel will be benefitted. So,ultimately, Hotels will encounters more bookings resulting in much more revenues.\n",
        "\n",
        "Ofcourse the better understanding regarding the different types of guests will help to take proper right steps towards services, facilities requirements and offers which will directly result in the growth in business."
      ],
      "metadata": {
        "id": "GL8l1tdLp1cl"
      }
    },
    {
      "cell_type": "markdown",
      "source": [
        "#### Chart - 14 - Correlation Heatmap"
      ],
      "metadata": {
        "id": "NC_X3p0fY2L0"
      }
    },
    {
      "cell_type": "code",
      "source": [
        "# Correlation Heatmap visualization code\n",
        "plt.figure(figsize=(18,10))\n",
        "sns.heatmap(Hotel_booking_df.corr(),annot=True)\n",
        "plt.title('Co-relation of the columns',fontsize=15)\n",
        ""
      ],
      "metadata": {
        "id": "xyC9zolEZNRQ"
      },
      "execution_count": null,
      "outputs": []
    },
    {
      "cell_type": "markdown",
      "source": [
        "##### 1. Why did you pick the specific chart?"
      ],
      "metadata": {
        "id": "UV0SzAkaZNRQ"
      }
    },
    {
      "cell_type": "markdown",
      "source": [
        "A correlation matrix is a table that displays the coefficients of correlation between bles. Each cell in the table represents the relationship between two variables. A correlation matrix can be used to summarise data, as an input to a more advanced analysis, or as a diagnostic for advanced studies. The correlation range is [-1,1].\n",
        "\n",
        "Thus, we employed a correlation heatmap to determine the correlation between all variables as well as the correlation coeficients."
      ],
      "metadata": {
        "id": "DVPuT8LYZNRQ"
      }
    },
    {
      "cell_type": "markdown",
      "source": [
        "##### 2. What is/are the insight(s) found from the chart?"
      ],
      "metadata": {
        "id": "YPEH6qLeZNRQ"
      }
    },
    {
      "cell_type": "markdown",
      "source": [
        "**1.** There is a negative correlation between \"is_canceled\" and \"total_stay.\" This means that customers are less likely to cancel their bookings if they don't get the same room as reserved.\n",
        "\n",
        "**2.** There is a positive correlation between \"lead_time\" and \"total_stay.\" This suggests that longer stays are associated with longer lead times in booking.\n",
        "\n",
        "**3.** There is a correlation between the number of \"adults,\" \"children,\" and \"babies.\" This indicates that as the number of people increases, the average daily rate (adr) tends to be higher.\n",
        "\n",
        "**4.** There is a strong correlation between \"is_repeated_guest\" and \"previous_bookings_not_canceled.\" This suggests that repeated guests are less likely to cancel their bookings."
      ],
      "metadata": {
        "id": "bfSqtnDqZNRR"
      }
    },
    {
      "cell_type": "markdown",
      "source": [
        "#### Chart - 15 - Pair Plot"
      ],
      "metadata": {
        "id": "q29F0dvdveiT"
      }
    },
    {
      "cell_type": "code",
      "source": [
        "# Pair Plot visualization code\n",
        "sns.pairplot(Hotel_booking_df,hue=\"is_repeated_guest\")\n"
      ],
      "metadata": {
        "id": "EupeK07fSOh4"
      },
      "execution_count": null,
      "outputs": []
    },
    {
      "cell_type": "markdown",
      "source": [
        "##### 2. What is/are the insight(s) found from the chart?"
      ],
      "metadata": {
        "id": "22aHeOlLveiV"
      }
    },
    {
      "cell_type": "markdown",
      "source": [],
      "metadata": {
        "id": "0Z4TGxzi9MJy"
      }
    },
    {
      "cell_type": "markdown",
      "source": [
        "We discovered the association between is repeated guest and various types of columns."
      ],
      "metadata": {
        "id": "uPQ8RGwHveiV"
      }
    },
    {
      "cell_type": "markdown",
      "source": [
        "## **5. Solution to Business Objective**"
      ],
      "metadata": {
        "id": "JcMwzZxoAimU"
      }
    },
    {
      "cell_type": "markdown",
      "source": [
        "#### What do you suggest the client to achieve Business Objective ?\n",
        "Explain Briefly."
      ],
      "metadata": {
        "id": "8G2x9gOozGDZ"
      }
    },
    {
      "cell_type": "markdown",
      "source": [
        "**The following business objectives were met:**\n",
        "\n",
        "**1.** Hotel businesses must thrive in order to achieve high growth and success, and a few factors to consider include strong income creation, customer happiness, and employee retention.\n",
        "\n",
        "**2.** We may accomplish this by displaying the client which months have a high revenue creation rate by using various charts and graphs distribution.\n",
        "\n",
        "**3.** Increasing revenue by distributing the kind of rooms are most preferred and reserved, as well as which months are best for visitors.\n",
        "\n",
        "**4.** We have also discovered the arouses preferences in other areas like as most preferred meal type, optimal stay length, customer-required facilities such as cae parking spaces, and so on. So, all of these information add up to superior growth planning.\n",
        "\n",
        "**5.** So, by planning ahead of time and utilising and comprehending these beneficial effects, the client can be well prepared in advance, resulting in fewer grievances in the long run and assisting in the future refinement of their hospitality and service.\n",
        "\n",
        "\n",
        "**6.** Request input from hotel guests on a regular basis so that the quality can be improved to attract additional guests.\n",
        "\n",
        "**7.** Offers are periodically thrown to attract former clients in order to improve the number of return visitors."
      ],
      "metadata": {
        "id": "pASKb0qOza21"
      }
    },
    {
      "cell_type": "markdown",
      "source": [
        "# **Conclusion**"
      ],
      "metadata": {
        "id": "gCX9965dhzqZ"
      }
    },
    {
      "cell_type": "markdown",
      "source": [
        "**1.** City hotels are the most popular hotel type among customers. The City Hotel is the busiest hotel.\n",
        "**2.** Out of all the reservations, 27.5% were cancelled.\n",
        "\n",
        "**3.** Only 3.9% of passengers returned to the hotels. The remaining 96.1% were first-time visitors. As a result, the retention rate is low.\n",
        "\n",
        "**4.** More than 82% of the bookings had no changes made to them. The percentage of single adjustments made was approximately 10%.\n",
        "\n",
        " **5.** The majority of consumers (91.6%) do not require parking spaces.\n",
        "\n",
        "**6.** Bookings were made through TA/TO (travel agents/tour operators) in 79.1% of cases.\n",
        "\n",
        "**7.** BB (Bed & Breakfast) is the most popular type of meal among guests.\n",
        "\n",
        "**8.** More than 25000 people came from Portugal, which had the highest number of visitors.\n",
        "\n",
        "**9.** The majority of bookings for city hotels and resort hotels occurred in 2016.\n",
        "\n",
        "**10.** When compared to resort hotels, the average ADR for city hotels is higher. These city hotels are more profitable than resort hotels.\n",
        "\n",
        "**11.** City hotels have a high cancellation rate of about 30%.\n",
        "\n",
        "**12.** The average lead time for a resort hotel is long.\n",
        "\n",
        "**13.** When compared to resort hotels, city hotels have a longer wait time. As a result, city hotels are far busier than resort hotels.\n",
        "\n",
        "**14.** Resort hotels have the most returning customers.\n",
        "\n",
        "**15.** The ideal stay in either type of hotel is fewer than 7 days. People usually remain for a week.\n",
        "\n",
        "**16.** Almost 19% of people did not cancel their reservations despite not receiving the identical room that they reserved when reserving the hotel. Only 2.5% of individuals cancelled their reservations."
      ],
      "metadata": {
        "id": "Fjb1IsQkh3yE"
      }
    },
    {
      "cell_type": "markdown",
      "source": [
        "### ***Hurrah! You have successfully completed your EDA Capstone Project !!!***"
      ],
      "metadata": {
        "id": "gIfDvo9L0UH2"
      }
    }
  ]
}